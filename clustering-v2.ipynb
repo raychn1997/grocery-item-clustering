{
 "cells": [
  {
   "cell_type": "markdown",
   "metadata": {
    "collapsed": true,
    "pycharm": {
     "name": "#%% md\n"
    }
   },
   "source": [
    "![](images/person-holds-a-basket-full-of-groceries-in-a-supermarket.jpg)\n",
    "\n",
    "In this project I used the K-means algorithm to cluster grocery items based on their transaction data.\n",
    "\n",
    "**Items that are often purchases together can be placed in the same aisle or aisles closer to each other,\n",
    "increasing sales!**\n",
    "\n",
    "This used to be done by human experts, which would require **many years of experience** in the industry to\n",
    "narrow things down. However, with the rise of big data and machine learning, why not\n",
    "let AI do all the trick and hard work for you?\n",
    "\n",
    "Ok let's get started. The first step is to gather the dataset. Here I downloaded\n",
    "[the Instacart dataset](https://www.kaggle.com/c/instacart-market-basket-analysis/data)\n",
    "from Kaggle, and **filtered out items that don't have a sufficient purchase history** yet in the dataset\n",
    "(being purchased fewer than 100 times), because they may not contain enough information to be correctly\n",
    "classified(i.e. they may end up forming weird 1-item categories)."
   ]
  },
  {
   "cell_type": "code",
   "execution_count": 1,
   "metadata": {
    "pycharm": {
     "name": "#%%\n"
    }
   },
   "outputs": [
    {
     "data": {
      "text/plain": "<IPython.core.display.HTML object>",
      "text/html": "\n        <script>\n            function code_toggle_6493814108582529392() {\n                $('div.cell.code_cell.rendered.selected').find('div.input').toggle();\n            }\n\n            \n        </script>\n\n        <a href=\"javascript:code_toggle_6493814108582529392()\">Toggle show/hide code</a>\n    "
     },
     "execution_count": 1,
     "metadata": {},
     "output_type": "execute_result"
    }
   ],
   "source": [
    "# Load dependencies\n",
    "import pandas as pd\n",
    "from scipy import sparse\n",
    "from sklearn import metrics\n",
    "from sklearn.cluster import KMeans\n",
    "import matplotlib.pyplot as plt\n",
    "\n",
    "from utility.jupyter import hide_toggle\n",
    "pd.set_option('display.max_rows', 30)\n",
    "\n",
    "# Load the Instacart data and cluster items that have been purchased at least 100 times\n",
    "df = pd.read_csv('data/order_products__train.csv')\n",
    "df = df.drop(['add_to_cart_order', 'reordered'], axis=1)\n",
    "df = df.groupby('product_id').filter(lambda x:len(x) >= 100)\n",
    "\n",
    "df_products = pd.read_csv('data/products.csv')\n",
    "df_aisles = pd.read_csv('data/aisles.csv')\n",
    "\n",
    "hide_toggle()"
   ]
  },
  {
   "cell_type": "markdown",
   "source": [
    "The main table is pretty straightforward, classical order_id - product_id pairs."
   ],
   "metadata": {
    "collapsed": false,
    "pycharm": {
     "name": "#%% md\n"
    }
   }
  },
  {
   "cell_type": "code",
   "execution_count": 4,
   "metadata": {
    "pycharm": {
     "name": "#%%\n"
    }
   },
   "outputs": [
    {
     "data": {
      "text/plain": "   order_id  product_id\n1         1       11109\n2         1       10246\n3         1       49683\n5         1       13176\n6         1       47209",
      "text/html": "<div>\n<style scoped>\n    .dataframe tbody tr th:only-of-type {\n        vertical-align: middle;\n    }\n\n    .dataframe tbody tr th {\n        vertical-align: top;\n    }\n\n    .dataframe thead th {\n        text-align: right;\n    }\n</style>\n<table border=\"1\" class=\"dataframe\">\n  <thead>\n    <tr style=\"text-align: right;\">\n      <th></th>\n      <th>order_id</th>\n      <th>product_id</th>\n    </tr>\n  </thead>\n  <tbody>\n    <tr>\n      <th>1</th>\n      <td>1</td>\n      <td>11109</td>\n    </tr>\n    <tr>\n      <th>2</th>\n      <td>1</td>\n      <td>10246</td>\n    </tr>\n    <tr>\n      <th>3</th>\n      <td>1</td>\n      <td>49683</td>\n    </tr>\n    <tr>\n      <th>5</th>\n      <td>1</td>\n      <td>13176</td>\n    </tr>\n    <tr>\n      <th>6</th>\n      <td>1</td>\n      <td>47209</td>\n    </tr>\n  </tbody>\n</table>\n</div>"
     },
     "execution_count": 4,
     "metadata": {},
     "output_type": "execute_result"
    }
   ],
   "source": [
    "df.head()"
   ]
  },
  {
   "cell_type": "markdown",
   "source": [
    "Now let's transform the order data into a matrix where:\n",
    "- each row is an order\n",
    "- each column is a product\n",
    "- each value 1 indicates a purchase"
   ],
   "metadata": {
    "collapsed": false,
    "pycharm": {
     "name": "#%% md\n"
    }
   }
  },
  {
   "cell_type": "code",
   "execution_count": 5,
   "metadata": {
    "pycharm": {
     "name": "#%%\n"
    }
   },
   "outputs": [
    {
     "data": {
      "text/plain": "<IPython.core.display.HTML object>",
      "text/html": "\n        <script>\n            function code_toggle_5019977211901553315() {\n                $('div.cell.code_cell.rendered.selected').find('div.input').toggle();\n            }\n\n            \n        </script>\n\n        <a href=\"javascript:code_toggle_5019977211901553315()\">Toggle show/hide code</a>\n    "
     },
     "execution_count": 5,
     "metadata": {},
     "output_type": "execute_result"
    }
   ],
   "source": [
    "df['filler'] = 1\n",
    "df = df.pivot(index='order_id', columns='product_id', values='filler').fillna(0)\n",
    "\n",
    "hide_toggle()"
   ]
  },
  {
   "cell_type": "code",
   "execution_count": 6,
   "outputs": [
    {
     "data": {
      "text/plain": "product_id  10     34     45     79     95     116    117    130    141    \\\norder_id                                                                    \n1             0.0    0.0    0.0    0.0    0.0    0.0    0.0    0.0    0.0   \n36            0.0    0.0    0.0    0.0    0.0    0.0    0.0    0.0    0.0   \n38            0.0    0.0    0.0    0.0    0.0    0.0    0.0    0.0    0.0   \n96            0.0    0.0    0.0    0.0    0.0    0.0    0.0    0.0    0.0   \n98            0.0    0.0    0.0    0.0    0.0    0.0    0.0    0.0    0.0   \n\nproduct_id  160    ...  49481  49517  49520  49533  49585  49605  49610  \\\norder_id           ...                                                    \n1             0.0  ...    0.0    0.0    0.0    0.0    0.0    0.0    0.0   \n36            0.0  ...    0.0    0.0    0.0    0.0    0.0    0.0    0.0   \n38            0.0  ...    0.0    0.0    0.0    0.0    0.0    0.0    0.0   \n96            0.0  ...    0.0    0.0    0.0    0.0    0.0    0.0    0.0   \n98            0.0  ...    0.0    0.0    0.0    0.0    0.0    0.0    0.0   \n\nproduct_id  49621  49628  49683  \norder_id                         \n1             0.0    0.0    1.0  \n36            0.0    0.0    0.0  \n38            0.0    0.0    0.0  \n96            0.0    0.0    0.0  \n98            0.0    0.0    0.0  \n\n[5 rows x 2457 columns]",
      "text/html": "<div>\n<style scoped>\n    .dataframe tbody tr th:only-of-type {\n        vertical-align: middle;\n    }\n\n    .dataframe tbody tr th {\n        vertical-align: top;\n    }\n\n    .dataframe thead th {\n        text-align: right;\n    }\n</style>\n<table border=\"1\" class=\"dataframe\">\n  <thead>\n    <tr style=\"text-align: right;\">\n      <th>product_id</th>\n      <th>10</th>\n      <th>34</th>\n      <th>45</th>\n      <th>79</th>\n      <th>95</th>\n      <th>116</th>\n      <th>117</th>\n      <th>130</th>\n      <th>141</th>\n      <th>160</th>\n      <th>...</th>\n      <th>49481</th>\n      <th>49517</th>\n      <th>49520</th>\n      <th>49533</th>\n      <th>49585</th>\n      <th>49605</th>\n      <th>49610</th>\n      <th>49621</th>\n      <th>49628</th>\n      <th>49683</th>\n    </tr>\n    <tr>\n      <th>order_id</th>\n      <th></th>\n      <th></th>\n      <th></th>\n      <th></th>\n      <th></th>\n      <th></th>\n      <th></th>\n      <th></th>\n      <th></th>\n      <th></th>\n      <th></th>\n      <th></th>\n      <th></th>\n      <th></th>\n      <th></th>\n      <th></th>\n      <th></th>\n      <th></th>\n      <th></th>\n      <th></th>\n      <th></th>\n    </tr>\n  </thead>\n  <tbody>\n    <tr>\n      <th>1</th>\n      <td>0.0</td>\n      <td>0.0</td>\n      <td>0.0</td>\n      <td>0.0</td>\n      <td>0.0</td>\n      <td>0.0</td>\n      <td>0.0</td>\n      <td>0.0</td>\n      <td>0.0</td>\n      <td>0.0</td>\n      <td>...</td>\n      <td>0.0</td>\n      <td>0.0</td>\n      <td>0.0</td>\n      <td>0.0</td>\n      <td>0.0</td>\n      <td>0.0</td>\n      <td>0.0</td>\n      <td>0.0</td>\n      <td>0.0</td>\n      <td>1.0</td>\n    </tr>\n    <tr>\n      <th>36</th>\n      <td>0.0</td>\n      <td>0.0</td>\n      <td>0.0</td>\n      <td>0.0</td>\n      <td>0.0</td>\n      <td>0.0</td>\n      <td>0.0</td>\n      <td>0.0</td>\n      <td>0.0</td>\n      <td>0.0</td>\n      <td>...</td>\n      <td>0.0</td>\n      <td>0.0</td>\n      <td>0.0</td>\n      <td>0.0</td>\n      <td>0.0</td>\n      <td>0.0</td>\n      <td>0.0</td>\n      <td>0.0</td>\n      <td>0.0</td>\n      <td>0.0</td>\n    </tr>\n    <tr>\n      <th>38</th>\n      <td>0.0</td>\n      <td>0.0</td>\n      <td>0.0</td>\n      <td>0.0</td>\n      <td>0.0</td>\n      <td>0.0</td>\n      <td>0.0</td>\n      <td>0.0</td>\n      <td>0.0</td>\n      <td>0.0</td>\n      <td>...</td>\n      <td>0.0</td>\n      <td>0.0</td>\n      <td>0.0</td>\n      <td>0.0</td>\n      <td>0.0</td>\n      <td>0.0</td>\n      <td>0.0</td>\n      <td>0.0</td>\n      <td>0.0</td>\n      <td>0.0</td>\n    </tr>\n    <tr>\n      <th>96</th>\n      <td>0.0</td>\n      <td>0.0</td>\n      <td>0.0</td>\n      <td>0.0</td>\n      <td>0.0</td>\n      <td>0.0</td>\n      <td>0.0</td>\n      <td>0.0</td>\n      <td>0.0</td>\n      <td>0.0</td>\n      <td>...</td>\n      <td>0.0</td>\n      <td>0.0</td>\n      <td>0.0</td>\n      <td>0.0</td>\n      <td>0.0</td>\n      <td>0.0</td>\n      <td>0.0</td>\n      <td>0.0</td>\n      <td>0.0</td>\n      <td>0.0</td>\n    </tr>\n    <tr>\n      <th>98</th>\n      <td>0.0</td>\n      <td>0.0</td>\n      <td>0.0</td>\n      <td>0.0</td>\n      <td>0.0</td>\n      <td>0.0</td>\n      <td>0.0</td>\n      <td>0.0</td>\n      <td>0.0</td>\n      <td>0.0</td>\n      <td>...</td>\n      <td>0.0</td>\n      <td>0.0</td>\n      <td>0.0</td>\n      <td>0.0</td>\n      <td>0.0</td>\n      <td>0.0</td>\n      <td>0.0</td>\n      <td>0.0</td>\n      <td>0.0</td>\n      <td>0.0</td>\n    </tr>\n  </tbody>\n</table>\n<p>5 rows × 2457 columns</p>\n</div>"
     },
     "execution_count": 6,
     "metadata": {},
     "output_type": "execute_result"
    }
   ],
   "source": [
    "df.head()"
   ],
   "metadata": {
    "collapsed": false,
    "pycharm": {
     "name": "#%%\n"
    }
   }
  },
  {
   "cell_type": "code",
   "execution_count": 6,
   "metadata": {
    "pycharm": {
     "name": "#%%\n"
    }
   },
   "outputs": [
    {
     "name": "stdout",
     "output_type": "stream",
     "text": [
      "Number of Transactions: 125956\n",
      "Number of Items: 2457\n"
     ]
    }
   ],
   "source": [
    "print('Number of Transactions:', df.shape[0])\n",
    "print('Number of Items:', df.shape[1])"
   ]
  },
  {
   "cell_type": "markdown",
   "metadata": {
    "pycharm": {
     "name": "#%% md\n"
    }
   },
   "source": [
    "Cool, now that everything has been set up, let's transform the data into a **similarity matrix**.\n",
    "(here I used the cosine similarity, but other metrics should be fine).\n",
    "\n",
    "Essentially, items that are often purchased together will have a similarity of 1, whereas\n",
    "those that have never been purchased together will have a similarity of 0."
   ]
  },
  {
   "cell_type": "code",
   "execution_count": 10,
   "outputs": [
    {
     "data": {
      "text/plain": "<IPython.core.display.HTML object>",
      "text/html": "\n        <script>\n            function code_toggle_6621327956914331363() {\n                $('div.cell.code_cell.rendered.selected').find('div.input').toggle();\n            }\n\n            \n        </script>\n\n        <a href=\"javascript:code_toggle_6621327956914331363()\">Toggle show/hide code</a>\n    "
     },
     "execution_count": 10,
     "metadata": {},
     "output_type": "execute_result"
    }
   ],
   "source": [
    "# Save memories by converting it to a sparse matrix\n",
    "data = df.to_numpy()\n",
    "data_sparse = sparse.csr_matrix(data)\n",
    "data_clustering = metrics.pairwise.cosine_similarity(data_sparse.T)\n",
    "data_clustering = sparse.csr_matrix(data_clustering)\n",
    "\n",
    "hide_toggle()"
   ],
   "metadata": {
    "collapsed": false,
    "pycharm": {
     "name": "#%%\n"
    }
   }
  },
  {
   "cell_type": "markdown",
   "source": [
    "Then, time to apply the K-means algorithm using the similarity matrix we just obtained!\n",
    "\n",
    "How do we choose K though? It's usually more subject to the business requirements.\n",
    "However, here what we can do is to pick a bunch of Ks and look at the inertia plot.\n",
    "A range between 8 and 20 would probably be a good start since we don't want to make things too complicated."
   ],
   "metadata": {
    "collapsed": false,
    "pycharm": {
     "name": "#%% md\n"
    }
   }
  },
  {
   "cell_type": "code",
   "execution_count": 15,
   "metadata": {
    "pycharm": {
     "name": "#%%\n"
    }
   },
   "outputs": [
    {
     "data": {
      "text/plain": "<IPython.core.display.HTML object>",
      "text/html": "\n        <script>\n            function code_toggle_16691434000306887086() {\n                $('div.cell.code_cell.rendered.selected').find('div.input').toggle();\n            }\n\n            \n        </script>\n\n        <a href=\"javascript:code_toggle_16691434000306887086()\">Toggle show/hide code</a>\n    "
     },
     "execution_count": 15,
     "metadata": {},
     "output_type": "execute_result"
    },
    {
     "data": {
      "text/plain": "<Figure size 432x288 with 1 Axes>",
      "image/png": "[encoded data removed]"
     },
     "metadata": {
      "needs_background": "light"
     },
     "output_type": "display_data"
    }
   ],
   "source": [
    "cluster_inertia = []\n",
    "for i in range(8, 20):\n",
    "    model = KMeans(n_clusters=i)\n",
    "    model.fit(data_clustering)\n",
    "    cluster_inertia.append(model.inertia_)\n",
    "\n",
    "plt.plot(range(8, 20), cluster_inertia)\n",
    "plt.xlabel('Number of Clusters')\n",
    "plt.ylabel('Inertia')\n",
    "plt.show()\n",
    "\n",
    "hide_toggle()\n"
   ]
  },
  {
   "cell_type": "markdown",
   "source": [
    "According to the plot, 14 seems to be a good choice, since the gains seem to be pretty low as K increases.\n",
    "Let's now plug in k=14 and get our clusters!"
   ],
   "metadata": {
    "collapsed": false,
    "pycharm": {
     "name": "#%% md\n"
    }
   }
  },
  {
   "cell_type": "code",
   "execution_count": 17,
   "metadata": {
    "pycharm": {
     "name": "#%%\n"
    }
   },
   "outputs": [
    {
     "data": {
      "text/plain": "<IPython.core.display.HTML object>",
      "text/html": "\n        <script>\n            function code_toggle_2528811501849050807() {\n                $('div.cell.code_cell.rendered.selected').find('div.input').toggle();\n            }\n\n            \n        </script>\n\n        <a href=\"javascript:code_toggle_2528811501849050807()\">Toggle show/hide code</a>\n    "
     },
     "execution_count": 17,
     "metadata": {},
     "output_type": "execute_result"
    }
   ],
   "source": [
    "kmeans = KMeans(n_clusters=14)\n",
    "\n",
    "clusters = kmeans.fit_predict(data_clustering)\n",
    "final_clusters = pd.DataFrame({'cluster':clusters,\n",
    "                               'product_id':df.columns})\n",
    "df_cluster = final_clusters.sort_values('cluster')\n",
    "df_cluster = pd.merge(df_cluster, df_products, how='left', on='product_id')\n",
    "\n",
    "hide_toggle()"
   ]
  },
  {
   "cell_type": "code",
   "execution_count": 18,
   "metadata": {
    "pycharm": {
     "name": "#%%\n"
    }
   },
   "outputs": [
    {
     "data": {
      "text/plain": "      cluster  product_id                           product_name  aisle_id  \\\n0           0       31562                           Sweet Onions        83   \n1           0       41463                       Cannellini Beans        59   \n2           0       41544  Organic Crushed Fire Roasted Tomatoes        81   \n3           0       28156     Total 0% Nonfat Plain Greek Yogurt       120   \n4           0        7746                                Oregano       104   \n...       ...         ...                                    ...       ...   \n2452       13       15261                       Organic Rosemary        16   \n2453       13       12409        Organic Distilled White Vinegar        19   \n2454       13       25659                   Organic Coconut Milk        91   \n2455       13        5479        Italian Sparkling Mineral Water       115   \n2456       13       18656                     Organic Red Potato        83   \n\n      department_id  \n0                 4  \n1                15  \n2                15  \n3                16  \n4                13  \n...             ...  \n2452              4  \n2453             13  \n2454             16  \n2455              7  \n2456              4  \n\n[2457 rows x 5 columns]",
      "text/html": "<div>\n<style scoped>\n    .dataframe tbody tr th:only-of-type {\n        vertical-align: middle;\n    }\n\n    .dataframe tbody tr th {\n        vertical-align: top;\n    }\n\n    .dataframe thead th {\n        text-align: right;\n    }\n</style>\n<table border=\"1\" class=\"dataframe\">\n  <thead>\n    <tr style=\"text-align: right;\">\n      <th></th>\n      <th>cluster</th>\n      <th>product_id</th>\n      <th>product_name</th>\n      <th>aisle_id</th>\n      <th>department_id</th>\n    </tr>\n  </thead>\n  <tbody>\n    <tr>\n      <th>0</th>\n      <td>0</td>\n      <td>31562</td>\n      <td>Sweet Onions</td>\n      <td>83</td>\n      <td>4</td>\n    </tr>\n    <tr>\n      <th>1</th>\n      <td>0</td>\n      <td>41463</td>\n      <td>Cannellini Beans</td>\n      <td>59</td>\n      <td>15</td>\n    </tr>\n    <tr>\n      <th>2</th>\n      <td>0</td>\n      <td>41544</td>\n      <td>Organic Crushed Fire Roasted Tomatoes</td>\n      <td>81</td>\n      <td>15</td>\n    </tr>\n    <tr>\n      <th>3</th>\n      <td>0</td>\n      <td>28156</td>\n      <td>Total 0% Nonfat Plain Greek Yogurt</td>\n      <td>120</td>\n      <td>16</td>\n    </tr>\n    <tr>\n      <th>4</th>\n      <td>0</td>\n      <td>7746</td>\n      <td>Oregano</td>\n      <td>104</td>\n      <td>13</td>\n    </tr>\n    <tr>\n      <th>...</th>\n      <td>...</td>\n      <td>...</td>\n      <td>...</td>\n      <td>...</td>\n      <td>...</td>\n    </tr>\n    <tr>\n      <th>2452</th>\n      <td>13</td>\n      <td>15261</td>\n      <td>Organic Rosemary</td>\n      <td>16</td>\n      <td>4</td>\n    </tr>\n    <tr>\n      <th>2453</th>\n      <td>13</td>\n      <td>12409</td>\n      <td>Organic Distilled White Vinegar</td>\n      <td>19</td>\n      <td>13</td>\n    </tr>\n    <tr>\n      <th>2454</th>\n      <td>13</td>\n      <td>25659</td>\n      <td>Organic Coconut Milk</td>\n      <td>91</td>\n      <td>16</td>\n    </tr>\n    <tr>\n      <th>2455</th>\n      <td>13</td>\n      <td>5479</td>\n      <td>Italian Sparkling Mineral Water</td>\n      <td>115</td>\n      <td>7</td>\n    </tr>\n    <tr>\n      <th>2456</th>\n      <td>13</td>\n      <td>18656</td>\n      <td>Organic Red Potato</td>\n      <td>83</td>\n      <td>4</td>\n    </tr>\n  </tbody>\n</table>\n<p>2457 rows × 5 columns</p>\n</div>"
     },
     "execution_count": 18,
     "metadata": {},
     "output_type": "execute_result"
    }
   ],
   "source": [
    "df_cluster"
   ]
  },
  {
   "cell_type": "markdown",
   "source": [
    "Get some basic stats regarding our clusters."
   ],
   "metadata": {
    "collapsed": false,
    "pycharm": {
     "name": "#%% md\n"
    }
   }
  },
  {
   "cell_type": "code",
   "execution_count": 19,
   "outputs": [
    {
     "data": {
      "text/plain": "8     404\n3     379\n4     337\n11    244\n0     187\n13    170\n6     147\n12    133\n7     127\n2     126\n1     121\n5      63\n9      10\n10      9\nName: cluster, dtype: int64"
     },
     "execution_count": 19,
     "metadata": {},
     "output_type": "execute_result"
    }
   ],
   "source": [
    "df_cluster['cluster'].value_counts()"
   ],
   "metadata": {
    "collapsed": false,
    "pycharm": {
     "name": "#%%\n"
    }
   }
  },
  {
   "cell_type": "markdown",
   "metadata": {
    "pycharm": {
     "name": "#%% md\n"
    }
   },
   "source": [
    "The group counts seem quite reasonable. Let's inspect some of the categories manually!"
   ]
  },
  {
   "cell_type": "code",
   "execution_count": 25,
   "outputs": [
    {
     "data": {
      "text/plain": "    cluster  product_id                                product_name  aisle_id  \\\n0         0       31562                                Sweet Onions        83   \n1         0       41463                            Cannellini Beans        59   \n2         0       41544       Organic Crushed Fire Roasted Tomatoes        81   \n3         0       28156          Total 0% Nonfat Plain Greek Yogurt       120   \n4         0        7746                                     Oregano       104   \n5         0       20549                                Organic Orzo       131   \n6         0       20520                     Mild Diced Green Chiles        81   \n7         0       41588                                   Firm Tofu        14   \n8         0       41610                          Arborio White Rice        63   \n9         0        7628  Dressing, Jersey Sweet Onion, Calorie Free        83   \n10        0       41690                      California Cauliflower        83   \n11        0        7485                               Garlic Hummus        67   \n12        0       45646                      Grated Parmesan Cheese        21   \n13        0       20345                  Thin Crust Pepperoni Pizza        79   \n14        0        7461                   Pinto Beans No Salt Added        59   \n15        0       31927                     Four Cheese Pasta Sauce         9   \n16        0       31893              Ice Cream Chocolate Mocha Chip        37   \n17        0       28373                 Original Rotisserie Chicken        13   \n18        0        7175    Organic Whipped Naturally Buttery Spread        91   \n19        0       45535            Organic Low Sodium Chicken Broth        69   \n20        0       20034                                Potted Basil        16   \n21        0        4086                                        Mint        16   \n22        0       19906                 Fresh Whole White Mushrooms        83   \n23        0       28553                          Whole Strawberries       116   \n24        0       41259                              Poblano Pepper        83   \n25        0        4163                      Spanish Rice Pilaf Mix         4   \n26        0       46138                   Cookies & Cream Ice Cream        37   \n27        0        7969                                        Lime        24   \n28        0       33352                         Organic Kale Greens       123   \n29        0        9210                         Fresh Whole Chicken        49   \n\n    department_id  \n0               4  \n1              15  \n2              15  \n3              16  \n4              13  \n5               9  \n6              15  \n7              20  \n8               9  \n9               4  \n10              4  \n11             20  \n12             16  \n13              1  \n14             15  \n15              9  \n16              1  \n17             20  \n18             16  \n19             15  \n20              4  \n21              4  \n22              4  \n23              1  \n24              4  \n25              9  \n26              1  \n27              4  \n28              4  \n29             12  ",
      "text/html": "<div>\n<style scoped>\n    .dataframe tbody tr th:only-of-type {\n        vertical-align: middle;\n    }\n\n    .dataframe tbody tr th {\n        vertical-align: top;\n    }\n\n    .dataframe thead th {\n        text-align: right;\n    }\n</style>\n<table border=\"1\" class=\"dataframe\">\n  <thead>\n    <tr style=\"text-align: right;\">\n      <th></th>\n      <th>cluster</th>\n      <th>product_id</th>\n      <th>product_name</th>\n      <th>aisle_id</th>\n      <th>department_id</th>\n    </tr>\n  </thead>\n  <tbody>\n    <tr>\n      <th>0</th>\n      <td>0</td>\n      <td>31562</td>\n      <td>Sweet Onions</td>\n      <td>83</td>\n      <td>4</td>\n    </tr>\n    <tr>\n      <th>1</th>\n      <td>0</td>\n      <td>41463</td>\n      <td>Cannellini Beans</td>\n      <td>59</td>\n      <td>15</td>\n    </tr>\n    <tr>\n      <th>2</th>\n      <td>0</td>\n      <td>41544</td>\n      <td>Organic Crushed Fire Roasted Tomatoes</td>\n      <td>81</td>\n      <td>15</td>\n    </tr>\n    <tr>\n      <th>3</th>\n      <td>0</td>\n      <td>28156</td>\n      <td>Total 0% Nonfat Plain Greek Yogurt</td>\n      <td>120</td>\n      <td>16</td>\n    </tr>\n    <tr>\n      <th>4</th>\n      <td>0</td>\n      <td>7746</td>\n      <td>Oregano</td>\n      <td>104</td>\n      <td>13</td>\n    </tr>\n    <tr>\n      <th>5</th>\n      <td>0</td>\n      <td>20549</td>\n      <td>Organic Orzo</td>\n      <td>131</td>\n      <td>9</td>\n    </tr>\n    <tr>\n      <th>6</th>\n      <td>0</td>\n      <td>20520</td>\n      <td>Mild Diced Green Chiles</td>\n      <td>81</td>\n      <td>15</td>\n    </tr>\n    <tr>\n      <th>7</th>\n      <td>0</td>\n      <td>41588</td>\n      <td>Firm Tofu</td>\n      <td>14</td>\n      <td>20</td>\n    </tr>\n    <tr>\n      <th>8</th>\n      <td>0</td>\n      <td>41610</td>\n      <td>Arborio White Rice</td>\n      <td>63</td>\n      <td>9</td>\n    </tr>\n    <tr>\n      <th>9</th>\n      <td>0</td>\n      <td>7628</td>\n      <td>Dressing, Jersey Sweet Onion, Calorie Free</td>\n      <td>83</td>\n      <td>4</td>\n    </tr>\n    <tr>\n      <th>10</th>\n      <td>0</td>\n      <td>41690</td>\n      <td>California Cauliflower</td>\n      <td>83</td>\n      <td>4</td>\n    </tr>\n    <tr>\n      <th>11</th>\n      <td>0</td>\n      <td>7485</td>\n      <td>Garlic Hummus</td>\n      <td>67</td>\n      <td>20</td>\n    </tr>\n    <tr>\n      <th>12</th>\n      <td>0</td>\n      <td>45646</td>\n      <td>Grated Parmesan Cheese</td>\n      <td>21</td>\n      <td>16</td>\n    </tr>\n    <tr>\n      <th>13</th>\n      <td>0</td>\n      <td>20345</td>\n      <td>Thin Crust Pepperoni Pizza</td>\n      <td>79</td>\n      <td>1</td>\n    </tr>\n    <tr>\n      <th>14</th>\n      <td>0</td>\n      <td>7461</td>\n      <td>Pinto Beans No Salt Added</td>\n      <td>59</td>\n      <td>15</td>\n    </tr>\n    <tr>\n      <th>15</th>\n      <td>0</td>\n      <td>31927</td>\n      <td>Four Cheese Pasta Sauce</td>\n      <td>9</td>\n      <td>9</td>\n    </tr>\n    <tr>\n      <th>16</th>\n      <td>0</td>\n      <td>31893</td>\n      <td>Ice Cream Chocolate Mocha Chip</td>\n      <td>37</td>\n      <td>1</td>\n    </tr>\n    <tr>\n      <th>17</th>\n      <td>0</td>\n      <td>28373</td>\n      <td>Original Rotisserie Chicken</td>\n      <td>13</td>\n      <td>20</td>\n    </tr>\n    <tr>\n      <th>18</th>\n      <td>0</td>\n      <td>7175</td>\n      <td>Organic Whipped Naturally Buttery Spread</td>\n      <td>91</td>\n      <td>16</td>\n    </tr>\n    <tr>\n      <th>19</th>\n      <td>0</td>\n      <td>45535</td>\n      <td>Organic Low Sodium Chicken Broth</td>\n      <td>69</td>\n      <td>15</td>\n    </tr>\n    <tr>\n      <th>20</th>\n      <td>0</td>\n      <td>20034</td>\n      <td>Potted Basil</td>\n      <td>16</td>\n      <td>4</td>\n    </tr>\n    <tr>\n      <th>21</th>\n      <td>0</td>\n      <td>4086</td>\n      <td>Mint</td>\n      <td>16</td>\n      <td>4</td>\n    </tr>\n    <tr>\n      <th>22</th>\n      <td>0</td>\n      <td>19906</td>\n      <td>Fresh Whole White Mushrooms</td>\n      <td>83</td>\n      <td>4</td>\n    </tr>\n    <tr>\n      <th>23</th>\n      <td>0</td>\n      <td>28553</td>\n      <td>Whole Strawberries</td>\n      <td>116</td>\n      <td>1</td>\n    </tr>\n    <tr>\n      <th>24</th>\n      <td>0</td>\n      <td>41259</td>\n      <td>Poblano Pepper</td>\n      <td>83</td>\n      <td>4</td>\n    </tr>\n    <tr>\n      <th>25</th>\n      <td>0</td>\n      <td>4163</td>\n      <td>Spanish Rice Pilaf Mix</td>\n      <td>4</td>\n      <td>9</td>\n    </tr>\n    <tr>\n      <th>26</th>\n      <td>0</td>\n      <td>46138</td>\n      <td>Cookies &amp; Cream Ice Cream</td>\n      <td>37</td>\n      <td>1</td>\n    </tr>\n    <tr>\n      <th>27</th>\n      <td>0</td>\n      <td>7969</td>\n      <td>Lime</td>\n      <td>24</td>\n      <td>4</td>\n    </tr>\n    <tr>\n      <th>28</th>\n      <td>0</td>\n      <td>33352</td>\n      <td>Organic Kale Greens</td>\n      <td>123</td>\n      <td>4</td>\n    </tr>\n    <tr>\n      <th>29</th>\n      <td>0</td>\n      <td>9210</td>\n      <td>Fresh Whole Chicken</td>\n      <td>49</td>\n      <td>12</td>\n    </tr>\n  </tbody>\n</table>\n</div>"
     },
     "execution_count": 25,
     "metadata": {},
     "output_type": "execute_result"
    }
   ],
   "source": [
    "df_cluster.query('cluster == 0').head(20)"
   ],
   "metadata": {
    "collapsed": false,
    "pycharm": {
     "name": "#%%\n"
    }
   }
  },
  {
   "cell_type": "code",
   "execution_count": 29,
   "outputs": [
    {
     "data": {
      "text/plain": "     cluster  product_id                                       product_name  \\\n187        1       31040                                Sea Salt Pita Chips   \n188        1       43504                             Organic Chicken Strips   \n189        1       43713                       Organic Creamy Peanut Butter   \n190        1       31433                     Organic Cinnamon Crunch Cereal   \n191        1       11777                                    Red Raspberries   \n192        1       18523  Total 2% All Natural Greek Strained Yogurt wit...   \n193        1       43352                                        Raspberries   \n194        1       43295                    Unsweetened Vanilla Almond Milk   \n195        1       18370                        Organic Shredded Mozzarella   \n196        1       18465        Organic Grade A Free Range Large Brown Eggs   \n197        1       36011                              Organic Fat Free Milk   \n198        1       37067                                     Organic Banana   \n199        1        5785                        Organic Reduced Fat 2% Milk   \n200        1        5646                               Organic Turkey Bacon   \n201        1       31343                       Shredded Mild Cheddar Cheese   \n202        1       43122                              Organic Bartlett Pear   \n203        1       37220                    Organic Strawberry Fruit Spread   \n204        1       18362                 Organic Bread with 21 Whole Grains   \n205        1       42342                              Roasted Turkey Breast   \n206        1       36724            Organic Sea Salt Roasted Seaweed Snacks   \n\n     aisle_id  department_id  \n187       107             19  \n188        34              1  \n189        88             13  \n190       121             14  \n191       123              4  \n192       120             16  \n193        32              4  \n194        91             16  \n195        21             16  \n196        86             16  \n197        84             16  \n198        24              4  \n199        84             16  \n200       106             12  \n201        21             16  \n202        24              4  \n203        88             13  \n204       112              3  \n205        96             20  \n206        66              6  ",
      "text/html": "<div>\n<style scoped>\n    .dataframe tbody tr th:only-of-type {\n        vertical-align: middle;\n    }\n\n    .dataframe tbody tr th {\n        vertical-align: top;\n    }\n\n    .dataframe thead th {\n        text-align: right;\n    }\n</style>\n<table border=\"1\" class=\"dataframe\">\n  <thead>\n    <tr style=\"text-align: right;\">\n      <th></th>\n      <th>cluster</th>\n      <th>product_id</th>\n      <th>product_name</th>\n      <th>aisle_id</th>\n      <th>department_id</th>\n    </tr>\n  </thead>\n  <tbody>\n    <tr>\n      <th>187</th>\n      <td>1</td>\n      <td>31040</td>\n      <td>Sea Salt Pita Chips</td>\n      <td>107</td>\n      <td>19</td>\n    </tr>\n    <tr>\n      <th>188</th>\n      <td>1</td>\n      <td>43504</td>\n      <td>Organic Chicken Strips</td>\n      <td>34</td>\n      <td>1</td>\n    </tr>\n    <tr>\n      <th>189</th>\n      <td>1</td>\n      <td>43713</td>\n      <td>Organic Creamy Peanut Butter</td>\n      <td>88</td>\n      <td>13</td>\n    </tr>\n    <tr>\n      <th>190</th>\n      <td>1</td>\n      <td>31433</td>\n      <td>Organic Cinnamon Crunch Cereal</td>\n      <td>121</td>\n      <td>14</td>\n    </tr>\n    <tr>\n      <th>191</th>\n      <td>1</td>\n      <td>11777</td>\n      <td>Red Raspberries</td>\n      <td>123</td>\n      <td>4</td>\n    </tr>\n    <tr>\n      <th>192</th>\n      <td>1</td>\n      <td>18523</td>\n      <td>Total 2% All Natural Greek Strained Yogurt wit...</td>\n      <td>120</td>\n      <td>16</td>\n    </tr>\n    <tr>\n      <th>193</th>\n      <td>1</td>\n      <td>43352</td>\n      <td>Raspberries</td>\n      <td>32</td>\n      <td>4</td>\n    </tr>\n    <tr>\n      <th>194</th>\n      <td>1</td>\n      <td>43295</td>\n      <td>Unsweetened Vanilla Almond Milk</td>\n      <td>91</td>\n      <td>16</td>\n    </tr>\n    <tr>\n      <th>195</th>\n      <td>1</td>\n      <td>18370</td>\n      <td>Organic Shredded Mozzarella</td>\n      <td>21</td>\n      <td>16</td>\n    </tr>\n    <tr>\n      <th>196</th>\n      <td>1</td>\n      <td>18465</td>\n      <td>Organic Grade A Free Range Large Brown Eggs</td>\n      <td>86</td>\n      <td>16</td>\n    </tr>\n    <tr>\n      <th>197</th>\n      <td>1</td>\n      <td>36011</td>\n      <td>Organic Fat Free Milk</td>\n      <td>84</td>\n      <td>16</td>\n    </tr>\n    <tr>\n      <th>198</th>\n      <td>1</td>\n      <td>37067</td>\n      <td>Organic Banana</td>\n      <td>24</td>\n      <td>4</td>\n    </tr>\n    <tr>\n      <th>199</th>\n      <td>1</td>\n      <td>5785</td>\n      <td>Organic Reduced Fat 2% Milk</td>\n      <td>84</td>\n      <td>16</td>\n    </tr>\n    <tr>\n      <th>200</th>\n      <td>1</td>\n      <td>5646</td>\n      <td>Organic Turkey Bacon</td>\n      <td>106</td>\n      <td>12</td>\n    </tr>\n    <tr>\n      <th>201</th>\n      <td>1</td>\n      <td>31343</td>\n      <td>Shredded Mild Cheddar Cheese</td>\n      <td>21</td>\n      <td>16</td>\n    </tr>\n    <tr>\n      <th>202</th>\n      <td>1</td>\n      <td>43122</td>\n      <td>Organic Bartlett Pear</td>\n      <td>24</td>\n      <td>4</td>\n    </tr>\n    <tr>\n      <th>203</th>\n      <td>1</td>\n      <td>37220</td>\n      <td>Organic Strawberry Fruit Spread</td>\n      <td>88</td>\n      <td>13</td>\n    </tr>\n    <tr>\n      <th>204</th>\n      <td>1</td>\n      <td>18362</td>\n      <td>Organic Bread with 21 Whole Grains</td>\n      <td>112</td>\n      <td>3</td>\n    </tr>\n    <tr>\n      <th>205</th>\n      <td>1</td>\n      <td>42342</td>\n      <td>Roasted Turkey Breast</td>\n      <td>96</td>\n      <td>20</td>\n    </tr>\n    <tr>\n      <th>206</th>\n      <td>1</td>\n      <td>36724</td>\n      <td>Organic Sea Salt Roasted Seaweed Snacks</td>\n      <td>66</td>\n      <td>6</td>\n    </tr>\n  </tbody>\n</table>\n</div>"
     },
     "execution_count": 29,
     "metadata": {},
     "output_type": "execute_result"
    }
   ],
   "source": [
    "df_cluster.query('cluster == 1').head(20)"
   ],
   "metadata": {
    "collapsed": false,
    "pycharm": {
     "name": "#%%\n"
    }
   }
  },
  {
   "cell_type": "code",
   "execution_count": 35,
   "outputs": [
    {
     "data": {
      "text/plain": "      cluster  product_id                   product_name  aisle_id  \\\n1150        5       45066               Honeycrisp Apple        24   \n1151        5       47209           Organic Hass Avocado        24   \n1152        5       45007               Organic Zucchini        83   \n1153        5       26604           Organic Blackberries        24   \n1154        5       44359     Organic Small Bunch Celery        83   \n1155        5       46979                      Asparagus        83   \n1156        5       24184                    Red Peppers        83   \n1157        5       28985          Michigan Organic Kale        83   \n1158        5       40706         Organic Grape Tomatoes       123   \n1159        5       40604           Feta Cheese Crumbles        21   \n1160        5       28849      No Salt Added Black Beans        59   \n1161        5       34126  Organic Italian Parsley Bunch        16   \n1162        5       30391               Organic Cucumber        83   \n1163        5       26209                          Limes        24   \n1164        5       31717               Organic Cilantro        16   \n1165        5       34358                         Garlic        83   \n1166        5       39275            Organic Blueberries       123   \n1167        5       42265           Organic Baby Carrots       123   \n1168        5       41950         Organic Tomato Cluster        83   \n1169        5       47766                Organic Avocado        24   \n\n      department_id  \n1150              4  \n1151              4  \n1152              4  \n1153              4  \n1154              4  \n1155              4  \n1156              4  \n1157              4  \n1158              4  \n1159             16  \n1160             15  \n1161              4  \n1162              4  \n1163              4  \n1164              4  \n1165              4  \n1166              4  \n1167              4  \n1168              4  \n1169              4  ",
      "text/html": "<div>\n<style scoped>\n    .dataframe tbody tr th:only-of-type {\n        vertical-align: middle;\n    }\n\n    .dataframe tbody tr th {\n        vertical-align: top;\n    }\n\n    .dataframe thead th {\n        text-align: right;\n    }\n</style>\n<table border=\"1\" class=\"dataframe\">\n  <thead>\n    <tr style=\"text-align: right;\">\n      <th></th>\n      <th>cluster</th>\n      <th>product_id</th>\n      <th>product_name</th>\n      <th>aisle_id</th>\n      <th>department_id</th>\n    </tr>\n  </thead>\n  <tbody>\n    <tr>\n      <th>1150</th>\n      <td>5</td>\n      <td>45066</td>\n      <td>Honeycrisp Apple</td>\n      <td>24</td>\n      <td>4</td>\n    </tr>\n    <tr>\n      <th>1151</th>\n      <td>5</td>\n      <td>47209</td>\n      <td>Organic Hass Avocado</td>\n      <td>24</td>\n      <td>4</td>\n    </tr>\n    <tr>\n      <th>1152</th>\n      <td>5</td>\n      <td>45007</td>\n      <td>Organic Zucchini</td>\n      <td>83</td>\n      <td>4</td>\n    </tr>\n    <tr>\n      <th>1153</th>\n      <td>5</td>\n      <td>26604</td>\n      <td>Organic Blackberries</td>\n      <td>24</td>\n      <td>4</td>\n    </tr>\n    <tr>\n      <th>1154</th>\n      <td>5</td>\n      <td>44359</td>\n      <td>Organic Small Bunch Celery</td>\n      <td>83</td>\n      <td>4</td>\n    </tr>\n    <tr>\n      <th>1155</th>\n      <td>5</td>\n      <td>46979</td>\n      <td>Asparagus</td>\n      <td>83</td>\n      <td>4</td>\n    </tr>\n    <tr>\n      <th>1156</th>\n      <td>5</td>\n      <td>24184</td>\n      <td>Red Peppers</td>\n      <td>83</td>\n      <td>4</td>\n    </tr>\n    <tr>\n      <th>1157</th>\n      <td>5</td>\n      <td>28985</td>\n      <td>Michigan Organic Kale</td>\n      <td>83</td>\n      <td>4</td>\n    </tr>\n    <tr>\n      <th>1158</th>\n      <td>5</td>\n      <td>40706</td>\n      <td>Organic Grape Tomatoes</td>\n      <td>123</td>\n      <td>4</td>\n    </tr>\n    <tr>\n      <th>1159</th>\n      <td>5</td>\n      <td>40604</td>\n      <td>Feta Cheese Crumbles</td>\n      <td>21</td>\n      <td>16</td>\n    </tr>\n    <tr>\n      <th>1160</th>\n      <td>5</td>\n      <td>28849</td>\n      <td>No Salt Added Black Beans</td>\n      <td>59</td>\n      <td>15</td>\n    </tr>\n    <tr>\n      <th>1161</th>\n      <td>5</td>\n      <td>34126</td>\n      <td>Organic Italian Parsley Bunch</td>\n      <td>16</td>\n      <td>4</td>\n    </tr>\n    <tr>\n      <th>1162</th>\n      <td>5</td>\n      <td>30391</td>\n      <td>Organic Cucumber</td>\n      <td>83</td>\n      <td>4</td>\n    </tr>\n    <tr>\n      <th>1163</th>\n      <td>5</td>\n      <td>26209</td>\n      <td>Limes</td>\n      <td>24</td>\n      <td>4</td>\n    </tr>\n    <tr>\n      <th>1164</th>\n      <td>5</td>\n      <td>31717</td>\n      <td>Organic Cilantro</td>\n      <td>16</td>\n      <td>4</td>\n    </tr>\n    <tr>\n      <th>1165</th>\n      <td>5</td>\n      <td>34358</td>\n      <td>Garlic</td>\n      <td>83</td>\n      <td>4</td>\n    </tr>\n    <tr>\n      <th>1166</th>\n      <td>5</td>\n      <td>39275</td>\n      <td>Organic Blueberries</td>\n      <td>123</td>\n      <td>4</td>\n    </tr>\n    <tr>\n      <th>1167</th>\n      <td>5</td>\n      <td>42265</td>\n      <td>Organic Baby Carrots</td>\n      <td>123</td>\n      <td>4</td>\n    </tr>\n    <tr>\n      <th>1168</th>\n      <td>5</td>\n      <td>41950</td>\n      <td>Organic Tomato Cluster</td>\n      <td>83</td>\n      <td>4</td>\n    </tr>\n    <tr>\n      <th>1169</th>\n      <td>5</td>\n      <td>47766</td>\n      <td>Organic Avocado</td>\n      <td>24</td>\n      <td>4</td>\n    </tr>\n  </tbody>\n</table>\n</div>"
     },
     "execution_count": 35,
     "metadata": {},
     "output_type": "execute_result"
    }
   ],
   "source": [
    "df_cluster.query('cluster == 5').head(20)"
   ],
   "metadata": {
    "collapsed": false,
    "pycharm": {
     "name": "#%%\n"
    }
   }
  },
  {
   "cell_type": "code",
   "execution_count": 31,
   "outputs": [
    {
     "data": {
      "text/plain": "      cluster  product_id                                       product_name  \\\n1891        9       36865                           Non Fat Raspberry Yogurt   \n1892        9       13263                Non Fat Acai & Mixed Berries Yogurt   \n1893        9        8309           Nonfat Icelandic Style Strawberry Yogurt   \n1894        9       26131  Mixed Berries Whole Milk Icelandic Style Skyr ...   \n1895        9       11448            Strained Non Fat Orange & Ginger Yogurt   \n1896        9       24799                         Vanilla Skyr Nonfat Yogurt   \n1897        9        8490                          Strawberry Rhubarb Yogurt   \n1898        9       28465      Icelandic Style Skyr Blueberry Non-fat Yogurt   \n1899        9       43662                  Yogurt, Strained Low-Fat, Coconut   \n1900        9       30563  Strained Non-Fat Strawberry Icelandic Style Sk...   \n\n      aisle_id  department_id  \n1891       120             16  \n1892       120             16  \n1893       120             16  \n1894       120             16  \n1895       120             16  \n1896       120             16  \n1897       120             16  \n1898       120             16  \n1899       120             16  \n1900       100             21  ",
      "text/html": "<div>\n<style scoped>\n    .dataframe tbody tr th:only-of-type {\n        vertical-align: middle;\n    }\n\n    .dataframe tbody tr th {\n        vertical-align: top;\n    }\n\n    .dataframe thead th {\n        text-align: right;\n    }\n</style>\n<table border=\"1\" class=\"dataframe\">\n  <thead>\n    <tr style=\"text-align: right;\">\n      <th></th>\n      <th>cluster</th>\n      <th>product_id</th>\n      <th>product_name</th>\n      <th>aisle_id</th>\n      <th>department_id</th>\n    </tr>\n  </thead>\n  <tbody>\n    <tr>\n      <th>1891</th>\n      <td>9</td>\n      <td>36865</td>\n      <td>Non Fat Raspberry Yogurt</td>\n      <td>120</td>\n      <td>16</td>\n    </tr>\n    <tr>\n      <th>1892</th>\n      <td>9</td>\n      <td>13263</td>\n      <td>Non Fat Acai &amp; Mixed Berries Yogurt</td>\n      <td>120</td>\n      <td>16</td>\n    </tr>\n    <tr>\n      <th>1893</th>\n      <td>9</td>\n      <td>8309</td>\n      <td>Nonfat Icelandic Style Strawberry Yogurt</td>\n      <td>120</td>\n      <td>16</td>\n    </tr>\n    <tr>\n      <th>1894</th>\n      <td>9</td>\n      <td>26131</td>\n      <td>Mixed Berries Whole Milk Icelandic Style Skyr ...</td>\n      <td>120</td>\n      <td>16</td>\n    </tr>\n    <tr>\n      <th>1895</th>\n      <td>9</td>\n      <td>11448</td>\n      <td>Strained Non Fat Orange &amp; Ginger Yogurt</td>\n      <td>120</td>\n      <td>16</td>\n    </tr>\n    <tr>\n      <th>1896</th>\n      <td>9</td>\n      <td>24799</td>\n      <td>Vanilla Skyr Nonfat Yogurt</td>\n      <td>120</td>\n      <td>16</td>\n    </tr>\n    <tr>\n      <th>1897</th>\n      <td>9</td>\n      <td>8490</td>\n      <td>Strawberry Rhubarb Yogurt</td>\n      <td>120</td>\n      <td>16</td>\n    </tr>\n    <tr>\n      <th>1898</th>\n      <td>9</td>\n      <td>28465</td>\n      <td>Icelandic Style Skyr Blueberry Non-fat Yogurt</td>\n      <td>120</td>\n      <td>16</td>\n    </tr>\n    <tr>\n      <th>1899</th>\n      <td>9</td>\n      <td>43662</td>\n      <td>Yogurt, Strained Low-Fat, Coconut</td>\n      <td>120</td>\n      <td>16</td>\n    </tr>\n    <tr>\n      <th>1900</th>\n      <td>9</td>\n      <td>30563</td>\n      <td>Strained Non-Fat Strawberry Icelandic Style Sk...</td>\n      <td>100</td>\n      <td>21</td>\n    </tr>\n  </tbody>\n</table>\n</div>"
     },
     "execution_count": 31,
     "metadata": {},
     "output_type": "execute_result"
    }
   ],
   "source": [
    "df_cluster.query('cluster == 9')"
   ],
   "metadata": {
    "collapsed": false,
    "pycharm": {
     "name": "#%%\n"
    }
   }
  },
  {
   "cell_type": "code",
   "execution_count": 32,
   "outputs": [
    {
     "data": {
      "text/plain": "      cluster  product_id                                       product_name  \\\n1901       10       42372               Pineapple on the Bottom Greek Yogurt   \n1902       10       33791        Raspberry on the Bottom Nonfat Greek Yogurt   \n1903       10       48626                       Coconut Blended Greek Yogurt   \n1904       10       44156       Strawberry on the Bottom Nonfat Greek Yogurt   \n1905       10       33548            Peach on the Bottom Nonfat Greek Yogurt   \n1906       10        7533  Low-Fat Strawberry Banana on the Bottom Greek ...   \n1907       10       38241           Low-Fat Mango on the Bottom Greek Yogurt   \n1908       10       46817    Non Fat Black Cherry on the Bottom Greek Yogurt   \n1909       10       23296        Blueberry on the Bottom Nonfat Greek Yogurt   \n\n      aisle_id  department_id  \n1901       120             16  \n1902       120             16  \n1903       120             16  \n1904       120             16  \n1905       120             16  \n1906       120             16  \n1907       120             16  \n1908       120             16  \n1909       120             16  ",
      "text/html": "<div>\n<style scoped>\n    .dataframe tbody tr th:only-of-type {\n        vertical-align: middle;\n    }\n\n    .dataframe tbody tr th {\n        vertical-align: top;\n    }\n\n    .dataframe thead th {\n        text-align: right;\n    }\n</style>\n<table border=\"1\" class=\"dataframe\">\n  <thead>\n    <tr style=\"text-align: right;\">\n      <th></th>\n      <th>cluster</th>\n      <th>product_id</th>\n      <th>product_name</th>\n      <th>aisle_id</th>\n      <th>department_id</th>\n    </tr>\n  </thead>\n  <tbody>\n    <tr>\n      <th>1901</th>\n      <td>10</td>\n      <td>42372</td>\n      <td>Pineapple on the Bottom Greek Yogurt</td>\n      <td>120</td>\n      <td>16</td>\n    </tr>\n    <tr>\n      <th>1902</th>\n      <td>10</td>\n      <td>33791</td>\n      <td>Raspberry on the Bottom Nonfat Greek Yogurt</td>\n      <td>120</td>\n      <td>16</td>\n    </tr>\n    <tr>\n      <th>1903</th>\n      <td>10</td>\n      <td>48626</td>\n      <td>Coconut Blended Greek Yogurt</td>\n      <td>120</td>\n      <td>16</td>\n    </tr>\n    <tr>\n      <th>1904</th>\n      <td>10</td>\n      <td>44156</td>\n      <td>Strawberry on the Bottom Nonfat Greek Yogurt</td>\n      <td>120</td>\n      <td>16</td>\n    </tr>\n    <tr>\n      <th>1905</th>\n      <td>10</td>\n      <td>33548</td>\n      <td>Peach on the Bottom Nonfat Greek Yogurt</td>\n      <td>120</td>\n      <td>16</td>\n    </tr>\n    <tr>\n      <th>1906</th>\n      <td>10</td>\n      <td>7533</td>\n      <td>Low-Fat Strawberry Banana on the Bottom Greek ...</td>\n      <td>120</td>\n      <td>16</td>\n    </tr>\n    <tr>\n      <th>1907</th>\n      <td>10</td>\n      <td>38241</td>\n      <td>Low-Fat Mango on the Bottom Greek Yogurt</td>\n      <td>120</td>\n      <td>16</td>\n    </tr>\n    <tr>\n      <th>1908</th>\n      <td>10</td>\n      <td>46817</td>\n      <td>Non Fat Black Cherry on the Bottom Greek Yogurt</td>\n      <td>120</td>\n      <td>16</td>\n    </tr>\n    <tr>\n      <th>1909</th>\n      <td>10</td>\n      <td>23296</td>\n      <td>Blueberry on the Bottom Nonfat Greek Yogurt</td>\n      <td>120</td>\n      <td>16</td>\n    </tr>\n  </tbody>\n</table>\n</div>"
     },
     "execution_count": 32,
     "metadata": {},
     "output_type": "execute_result"
    }
   ],
   "source": [
    "df_cluster.query('cluster == 10')"
   ],
   "metadata": {
    "collapsed": false,
    "pycharm": {
     "name": "#%%\n"
    }
   }
  },
  {
   "cell_type": "markdown",
   "source": [
    "Voila! A few interesting discoveries here:\n",
    "- Category 0 seems to be raw cooking materials!\n",
    "- Category 1 seems to be organic products and snacks!\n",
    "- Category 5 seems to be organic products as well!(But they don't seem to be bought together with snacks)\n",
    "- Category 9 and 100 seem to be two clusters of low/non-fat dairy products.\n",
    "\n"
   ],
   "metadata": {
    "collapsed": false,
    "pycharm": {
     "name": "#%% md\n"
    }
   }
  }
 ],
 "metadata": {
  "kernelspec": {
   "display_name": "Python 3 (ipykernel)",
   "language": "python",
   "name": "python3"
  },
  "language_info": {
   "codemirror_mode": {
    "name": "ipython",
    "version": 3
   },
   "file_extension": ".py",
   "mimetype": "text/x-python",
   "name": "python",
   "nbconvert_exporter": "python",
   "pygments_lexer": "ipython3",
   "version": "3.8.6"
  }
 },
 "nbformat": 4,
 "nbformat_minor": 1
}