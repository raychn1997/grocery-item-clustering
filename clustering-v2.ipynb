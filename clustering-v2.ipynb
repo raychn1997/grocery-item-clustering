{
 "cells": [
  {
   "cell_type": "markdown",
   "metadata": {
    "collapsed": true,
    "pycharm": {
     "name": "#%% md\n"
    }
   },
   "source": [
    "![](images/person-holds-a-basket-full-of-groceries-in-a-supermarket.jpg)\n",
    "\n",
    "In this project I used the K-means algorithm to cluster grocery items based on their transaction data.\n",
    "\n",
    "**Items that are often purchases together can be placed in the same aisle or aisles closer to each other,\n",
    "increasing sales!**\n",
    "\n",
    "This used to be done by human experts, which would require **many years of experience** in the industry to\n",
    "narrow things down. However, with the rise of big data and machine learning, why not\n",
    "let AI do all the trick and hard work for you?\n",
    "\n",
    "Ok let's get started. The first step is to gather the dataset. Here I downloaded\n",
    "[the Instacart dataset](https://www.kaggle.com/c/instacart-market-basket-analysis/data)\n",
    "from Kaggle, and **filtered out items that don't have a sufficient purchase history** yet in the dataset\n",
    "(being purchased fewer than 100 times), because they may not contain enough information to be correctly\n",
    "classified(i.e. they may end up forming weird 1-item categories)."
   ]
  },
  {
   "cell_type": "code",
   "execution_count": 1,
   "metadata": {
    "pycharm": {
     "name": "#%%\n"
    }
   },
   "outputs": [],
   "source": [
    "# Load dependencies\n",
    "import pandas as pd\n",
    "from scipy import sparse\n",
    "from sklearn import metrics\n",
    "from sklearn.cluster import KMeans\n",
    "import matplotlib.pyplot as plt\n",
    "import seaborn as sns\n",
    "\n",
    "pd.set_option('display.max_rows', 30)\n",
    "\n",
    "# Load the Instacart data and cluster items that have been purchased at least 100 times\n",
    "df = pd.read_csv('data/order_products__train.csv')\n",
    "df = df.drop(['add_to_cart_order', 'reordered'], axis=1)\n",
    "df = df.groupby('product_id').filter(lambda x:len(x) >= 100)\n",
    "\n",
    "df_products = pd.read_csv('data/products.csv')\n",
    "df_aisles = pd.read_csv('data/aisles.csv')"
   ]
  },
  {
   "cell_type": "markdown",
   "metadata": {
    "pycharm": {
     "name": "#%% md\n"
    }
   },
   "source": [
    "The main table is pretty straightforward, classical order_id - product_id pairs."
   ]
  },
  {
   "cell_type": "code",
   "execution_count": 2,
   "metadata": {
    "pycharm": {
     "name": "#%%\n"
    }
   },
   "outputs": [
    {
     "data": {
      "text/plain": "   order_id  product_id\n1         1       11109\n2         1       10246\n3         1       49683\n5         1       13176\n6         1       47209",
      "text/html": "<div>\n<style scoped>\n    .dataframe tbody tr th:only-of-type {\n        vertical-align: middle;\n    }\n\n    .dataframe tbody tr th {\n        vertical-align: top;\n    }\n\n    .dataframe thead th {\n        text-align: right;\n    }\n</style>\n<table border=\"1\" class=\"dataframe\">\n  <thead>\n    <tr style=\"text-align: right;\">\n      <th></th>\n      <th>order_id</th>\n      <th>product_id</th>\n    </tr>\n  </thead>\n  <tbody>\n    <tr>\n      <th>1</th>\n      <td>1</td>\n      <td>11109</td>\n    </tr>\n    <tr>\n      <th>2</th>\n      <td>1</td>\n      <td>10246</td>\n    </tr>\n    <tr>\n      <th>3</th>\n      <td>1</td>\n      <td>49683</td>\n    </tr>\n    <tr>\n      <th>5</th>\n      <td>1</td>\n      <td>13176</td>\n    </tr>\n    <tr>\n      <th>6</th>\n      <td>1</td>\n      <td>47209</td>\n    </tr>\n  </tbody>\n</table>\n</div>"
     },
     "execution_count": 2,
     "metadata": {},
     "output_type": "execute_result"
    }
   ],
   "source": [
    "df.head()"
   ]
  },
  {
   "cell_type": "markdown",
   "metadata": {
    "pycharm": {
     "name": "#%% md\n"
    }
   },
   "source": [
    "Now let's transform the order data into a matrix where:\n",
    "- each row is an order\n",
    "- each column is a product\n",
    "- each value 1 indicates a purchase"
   ]
  },
  {
   "cell_type": "code",
   "execution_count": 3,
   "metadata": {
    "pycharm": {
     "name": "#%%\n"
    }
   },
   "outputs": [],
   "source": [
    "df['filler'] = 1\n",
    "df = df.pivot(index='order_id', columns='product_id', values='filler').fillna(0)"
   ]
  },
  {
   "cell_type": "code",
   "execution_count": 19,
   "metadata": {
    "pycharm": {
     "name": "#%%\n"
    }
   },
   "outputs": [
    {
     "data": {
      "text/plain": "product_id  10     34     45     79     95     116    117    130    141    \\\norder_id                                                                    \n1             0.0    0.0    0.0    0.0    0.0    0.0    0.0    0.0    0.0   \n36            0.0    0.0    0.0    0.0    0.0    0.0    0.0    0.0    0.0   \n38            0.0    0.0    0.0    0.0    0.0    0.0    0.0    0.0    0.0   \n96            0.0    0.0    0.0    0.0    0.0    0.0    0.0    0.0    0.0   \n98            0.0    0.0    0.0    0.0    0.0    0.0    0.0    0.0    0.0   \n\nproduct_id  160    ...  49481  49517  49520  49533  49585  49605  49610  \\\norder_id           ...                                                    \n1             0.0  ...    0.0    0.0    0.0    0.0    0.0    0.0    0.0   \n36            0.0  ...    0.0    0.0    0.0    0.0    0.0    0.0    0.0   \n38            0.0  ...    0.0    0.0    0.0    0.0    0.0    0.0    0.0   \n96            0.0  ...    0.0    0.0    0.0    0.0    0.0    0.0    0.0   \n98            0.0  ...    0.0    0.0    0.0    0.0    0.0    0.0    0.0   \n\nproduct_id  49621  49628  49683  \norder_id                         \n1             0.0    0.0    1.0  \n36            0.0    0.0    0.0  \n38            0.0    0.0    0.0  \n96            0.0    0.0    0.0  \n98            0.0    0.0    0.0  \n\n[5 rows x 2457 columns]",
      "text/html": "<div>\n<style scoped>\n    .dataframe tbody tr th:only-of-type {\n        vertical-align: middle;\n    }\n\n    .dataframe tbody tr th {\n        vertical-align: top;\n    }\n\n    .dataframe thead th {\n        text-align: right;\n    }\n</style>\n<table border=\"1\" class=\"dataframe\">\n  <thead>\n    <tr style=\"text-align: right;\">\n      <th>product_id</th>\n      <th>10</th>\n      <th>34</th>\n      <th>45</th>\n      <th>79</th>\n      <th>95</th>\n      <th>116</th>\n      <th>117</th>\n      <th>130</th>\n      <th>141</th>\n      <th>160</th>\n      <th>...</th>\n      <th>49481</th>\n      <th>49517</th>\n      <th>49520</th>\n      <th>49533</th>\n      <th>49585</th>\n      <th>49605</th>\n      <th>49610</th>\n      <th>49621</th>\n      <th>49628</th>\n      <th>49683</th>\n    </tr>\n    <tr>\n      <th>order_id</th>\n      <th></th>\n      <th></th>\n      <th></th>\n      <th></th>\n      <th></th>\n      <th></th>\n      <th></th>\n      <th></th>\n      <th></th>\n      <th></th>\n      <th></th>\n      <th></th>\n      <th></th>\n      <th></th>\n      <th></th>\n      <th></th>\n      <th></th>\n      <th></th>\n      <th></th>\n      <th></th>\n      <th></th>\n    </tr>\n  </thead>\n  <tbody>\n    <tr>\n      <th>1</th>\n      <td>0.0</td>\n      <td>0.0</td>\n      <td>0.0</td>\n      <td>0.0</td>\n      <td>0.0</td>\n      <td>0.0</td>\n      <td>0.0</td>\n      <td>0.0</td>\n      <td>0.0</td>\n      <td>0.0</td>\n      <td>...</td>\n      <td>0.0</td>\n      <td>0.0</td>\n      <td>0.0</td>\n      <td>0.0</td>\n      <td>0.0</td>\n      <td>0.0</td>\n      <td>0.0</td>\n      <td>0.0</td>\n      <td>0.0</td>\n      <td>1.0</td>\n    </tr>\n    <tr>\n      <th>36</th>\n      <td>0.0</td>\n      <td>0.0</td>\n      <td>0.0</td>\n      <td>0.0</td>\n      <td>0.0</td>\n      <td>0.0</td>\n      <td>0.0</td>\n      <td>0.0</td>\n      <td>0.0</td>\n      <td>0.0</td>\n      <td>...</td>\n      <td>0.0</td>\n      <td>0.0</td>\n      <td>0.0</td>\n      <td>0.0</td>\n      <td>0.0</td>\n      <td>0.0</td>\n      <td>0.0</td>\n      <td>0.0</td>\n      <td>0.0</td>\n      <td>0.0</td>\n    </tr>\n    <tr>\n      <th>38</th>\n      <td>0.0</td>\n      <td>0.0</td>\n      <td>0.0</td>\n      <td>0.0</td>\n      <td>0.0</td>\n      <td>0.0</td>\n      <td>0.0</td>\n      <td>0.0</td>\n      <td>0.0</td>\n      <td>0.0</td>\n      <td>...</td>\n      <td>0.0</td>\n      <td>0.0</td>\n      <td>0.0</td>\n      <td>0.0</td>\n      <td>0.0</td>\n      <td>0.0</td>\n      <td>0.0</td>\n      <td>0.0</td>\n      <td>0.0</td>\n      <td>0.0</td>\n    </tr>\n    <tr>\n      <th>96</th>\n      <td>0.0</td>\n      <td>0.0</td>\n      <td>0.0</td>\n      <td>0.0</td>\n      <td>0.0</td>\n      <td>0.0</td>\n      <td>0.0</td>\n      <td>0.0</td>\n      <td>0.0</td>\n      <td>0.0</td>\n      <td>...</td>\n      <td>0.0</td>\n      <td>0.0</td>\n      <td>0.0</td>\n      <td>0.0</td>\n      <td>0.0</td>\n      <td>0.0</td>\n      <td>0.0</td>\n      <td>0.0</td>\n      <td>0.0</td>\n      <td>0.0</td>\n    </tr>\n    <tr>\n      <th>98</th>\n      <td>0.0</td>\n      <td>0.0</td>\n      <td>0.0</td>\n      <td>0.0</td>\n      <td>0.0</td>\n      <td>0.0</td>\n      <td>0.0</td>\n      <td>0.0</td>\n      <td>0.0</td>\n      <td>0.0</td>\n      <td>...</td>\n      <td>0.0</td>\n      <td>0.0</td>\n      <td>0.0</td>\n      <td>0.0</td>\n      <td>0.0</td>\n      <td>0.0</td>\n      <td>0.0</td>\n      <td>0.0</td>\n      <td>0.0</td>\n      <td>0.0</td>\n    </tr>\n  </tbody>\n</table>\n<p>5 rows × 2457 columns</p>\n</div>"
     },
     "execution_count": 19,
     "metadata": {},
     "output_type": "execute_result"
    }
   ],
   "source": [
    "df.head()"
   ]
  },
  {
   "cell_type": "code",
   "execution_count": 4,
   "metadata": {
    "pycharm": {
     "name": "#%%\n"
    }
   },
   "outputs": [
    {
     "name": "stdout",
     "output_type": "stream",
     "text": [
      "Number of Transactions: 125956\n",
      "Number of Items: 2457\n"
     ]
    }
   ],
   "source": [
    "print('Number of Transactions:', df.shape[0])\n",
    "print('Number of Items:', df.shape[1])"
   ]
  },
  {
   "cell_type": "markdown",
   "metadata": {
    "pycharm": {
     "name": "#%% md\n"
    }
   },
   "source": [
    "Cool, now that everything has been set up, let's transform the data into a **similarity matrix**.\n",
    "(here I used the cosine similarity, but other metrics should be fine).\n",
    "\n",
    "Essentially, items that are often purchased together will have a similarity of 1, whereas\n",
    "those that have never been purchased together will have a similarity of 0."
   ]
  },
  {
   "cell_type": "code",
   "execution_count": 5,
   "metadata": {
    "pycharm": {
     "name": "#%%\n"
    }
   },
   "outputs": [],
   "source": [
    "# Save memories by converting it to a sparse matrix\n",
    "data = df.to_numpy()\n",
    "data_sparse = sparse.csr_matrix(data)\n",
    "data_clustering = metrics.pairwise.cosine_similarity(data_sparse.T)\n",
    "data_clustering = sparse.csr_matrix(data_clustering)"
   ]
  },
  {
   "cell_type": "markdown",
   "metadata": {
    "pycharm": {
     "name": "#%% md\n"
    }
   },
   "source": [
    "Then, time to apply the K-means algorithm using the similarity matrix we just obtained!\n",
    "\n",
    "How do we choose K though? It's usually more subject to the business requirements.\n",
    "\n",
    "However, here what we can do is to pick a bunch of Ks and look at the inertia plot.\n",
    "\n",
    "A range between 100 and 200 would probably be a good start since we don't want to make things too complicated.\n",
    "(which works out to be around 10+ types of item per aisle)"
   ]
  },
  {
   "cell_type": "code",
   "execution_count": 7,
   "metadata": {
    "pycharm": {
     "name": "#%%\n"
    }
   },
   "outputs": [
    {
     "data": {
      "text/plain": "<Figure size 432x288 with 1 Axes>",
      "image/png": "[encoded data removed]"
     },
     "metadata": {
      "needs_background": "light"
     },
     "output_type": "display_data"
    }
   ],
   "source": [
    "cluster_inertia = []\n",
    "for i in range(100, 220, 20):\n",
    "    model = KMeans(n_clusters=i)\n",
    "    model.fit(data_clustering)\n",
    "    cluster_inertia.append(model.inertia_)\n",
    "\n",
    "plt.plot(range(100, 220, 20), cluster_inertia)\n",
    "plt.xlabel('Number of Clusters')\n",
    "plt.ylabel('Inertia')\n",
    "plt.show()"
   ]
  },
  {
   "cell_type": "markdown",
   "metadata": {
    "pycharm": {
     "name": "#%% md\n"
    }
   },
   "source": [
    "According to the plot, 200 seems to be a good choice since the line keeps going down.\n",
    "\n",
    "Let's plug it in!"
   ]
  },
  {
   "cell_type": "code",
   "execution_count": 30,
   "metadata": {
    "pycharm": {
     "name": "#%%\n"
    }
   },
   "outputs": [],
   "source": [
    "kmeans = KMeans(n_clusters=200)\n",
    "\n",
    "clusters = kmeans.fit_predict(data_clustering)\n",
    "final_clusters = pd.DataFrame({'cluster':clusters,\n",
    "                               'product_id':df.columns})\n",
    "df_cluster = final_clusters.sort_values('cluster')\n",
    "df_cluster = pd.merge(df_cluster, df_products, how='left', on='product_id')\n",
    "df_cluster = df_cluster.drop(['aisle_id', 'department_id'], axis=1)"
   ]
  },
  {
   "cell_type": "code",
   "execution_count": 31,
   "metadata": {
    "pycharm": {
     "name": "#%%\n"
    }
   },
   "outputs": [
    {
     "data": {
      "text/plain": "      cluster  product_id                    product_name\n0           0       31964    Passionfruit Sparkling Water\n1           0       49520          Orange Sparkling Water\n2           0       49191  Cran Raspberry Sparkling Water\n3           1        5883     Organic Strawberry Lemonade\n4           1        8929         Organic Chicken Pot Pie\n...       ...         ...                             ...\n2452      199       32747                 Low Fat 1% Milk\n2453      199       45116                  Potatoes Sweet\n2454      199       40354          California Clementines\n2455      199        7419        Sweet Red Grape Tomatoes\n2456      199       11265     100% Natural Diced Tomatoes\n\n[2457 rows x 3 columns]",
      "text/html": "<div>\n<style scoped>\n    .dataframe tbody tr th:only-of-type {\n        vertical-align: middle;\n    }\n\n    .dataframe tbody tr th {\n        vertical-align: top;\n    }\n\n    .dataframe thead th {\n        text-align: right;\n    }\n</style>\n<table border=\"1\" class=\"dataframe\">\n  <thead>\n    <tr style=\"text-align: right;\">\n      <th></th>\n      <th>cluster</th>\n      <th>product_id</th>\n      <th>product_name</th>\n    </tr>\n  </thead>\n  <tbody>\n    <tr>\n      <th>0</th>\n      <td>0</td>\n      <td>31964</td>\n      <td>Passionfruit Sparkling Water</td>\n    </tr>\n    <tr>\n      <th>1</th>\n      <td>0</td>\n      <td>49520</td>\n      <td>Orange Sparkling Water</td>\n    </tr>\n    <tr>\n      <th>2</th>\n      <td>0</td>\n      <td>49191</td>\n      <td>Cran Raspberry Sparkling Water</td>\n    </tr>\n    <tr>\n      <th>3</th>\n      <td>1</td>\n      <td>5883</td>\n      <td>Organic Strawberry Lemonade</td>\n    </tr>\n    <tr>\n      <th>4</th>\n      <td>1</td>\n      <td>8929</td>\n      <td>Organic Chicken Pot Pie</td>\n    </tr>\n    <tr>\n      <th>...</th>\n      <td>...</td>\n      <td>...</td>\n      <td>...</td>\n    </tr>\n    <tr>\n      <th>2452</th>\n      <td>199</td>\n      <td>32747</td>\n      <td>Low Fat 1% Milk</td>\n    </tr>\n    <tr>\n      <th>2453</th>\n      <td>199</td>\n      <td>45116</td>\n      <td>Potatoes Sweet</td>\n    </tr>\n    <tr>\n      <th>2454</th>\n      <td>199</td>\n      <td>40354</td>\n      <td>California Clementines</td>\n    </tr>\n    <tr>\n      <th>2455</th>\n      <td>199</td>\n      <td>7419</td>\n      <td>Sweet Red Grape Tomatoes</td>\n    </tr>\n    <tr>\n      <th>2456</th>\n      <td>199</td>\n      <td>11265</td>\n      <td>100% Natural Diced Tomatoes</td>\n    </tr>\n  </tbody>\n</table>\n<p>2457 rows × 3 columns</p>\n</div>"
     },
     "execution_count": 31,
     "metadata": {},
     "output_type": "execute_result"
    }
   ],
   "source": [
    "df_cluster"
   ]
  },
  {
   "cell_type": "markdown",
   "metadata": {
    "pycharm": {
     "name": "#%% md\n"
    }
   },
   "source": [
    "Get some basic stats regarding our clusters."
   ]
  },
  {
   "cell_type": "code",
   "execution_count": 32,
   "outputs": [
    {
     "name": "stderr",
     "output_type": "stream",
     "text": [
      "/Users/ree/PycharmProjects/Personal/grocery-item-clustering/venv/lib/python3.8/site-packages/seaborn/distributions.py:2619: FutureWarning: `distplot` is a deprecated function and will be removed in a future version. Please adapt your code to use either `displot` (a figure-level function with similar flexibility) or `histplot` (an axes-level function for histograms).\n",
      "  warnings.warn(msg, FutureWarning)\n"
     ]
    },
    {
     "data": {
      "text/plain": "<AxesSubplot:xlabel='cluster', ylabel='Density'>"
     },
     "execution_count": 32,
     "metadata": {},
     "output_type": "execute_result"
    },
    {
     "data": {
      "text/plain": "<Figure size 432x288 with 1 Axes>",
      "image/png": "[encoded data removed]"
     },
     "metadata": {
      "needs_background": "light"
     },
     "output_type": "display_data"
    }
   ],
   "source": [
    "sns.distplot(df_cluster['cluster'].value_counts())"
   ],
   "metadata": {
    "collapsed": false,
    "pycharm": {
     "name": "#%%\n"
    }
   }
  },
  {
   "cell_type": "markdown",
   "metadata": {
    "pycharm": {
     "name": "#%% md\n"
    }
   },
   "source": [
    "The group counts seem quite reasonable. Let's inspect some of the categories manually!"
   ]
  },
  {
   "cell_type": "code",
   "execution_count": 33,
   "metadata": {
    "pycharm": {
     "name": "#%%\n"
    }
   },
   "outputs": [
    {
     "data": {
      "text/plain": "    cluster  product_id                                       product_name\n3         1        5883                        Organic Strawberry Lemonade\n4         1        8929                            Organic Chicken Pot Pie\n5         1       28769                      Organic Apple Chicken Sausage\n6         1       29370                      Organic White Cheddar Popcorn\n7         1       16363         Gluten Free Breaded Chicken Breast Tenders\n8         1       37971                Organic Cranberry Pomegranate Juice\n9         1       35383                                Classic White Bread\n10        1       45957                                  Peach Mango Salsa\n11        1       30967                      Organic Frosted Flakes Cereal\n12        1       13640                                        Asian Pears\n13        1       18200  Aged White Cheddar Gluten-Free Baked Rice And ...\n14        1       40878                                Macaroni And Cheese\n15        1       37464                     Apple Cinnamon Instant Oatmeal\n16        1       39160               Kefir Cultured Strawberry Milk Drink",
      "text/html": "<div>\n<style scoped>\n    .dataframe tbody tr th:only-of-type {\n        vertical-align: middle;\n    }\n\n    .dataframe tbody tr th {\n        vertical-align: top;\n    }\n\n    .dataframe thead th {\n        text-align: right;\n    }\n</style>\n<table border=\"1\" class=\"dataframe\">\n  <thead>\n    <tr style=\"text-align: right;\">\n      <th></th>\n      <th>cluster</th>\n      <th>product_id</th>\n      <th>product_name</th>\n    </tr>\n  </thead>\n  <tbody>\n    <tr>\n      <th>3</th>\n      <td>1</td>\n      <td>5883</td>\n      <td>Organic Strawberry Lemonade</td>\n    </tr>\n    <tr>\n      <th>4</th>\n      <td>1</td>\n      <td>8929</td>\n      <td>Organic Chicken Pot Pie</td>\n    </tr>\n    <tr>\n      <th>5</th>\n      <td>1</td>\n      <td>28769</td>\n      <td>Organic Apple Chicken Sausage</td>\n    </tr>\n    <tr>\n      <th>6</th>\n      <td>1</td>\n      <td>29370</td>\n      <td>Organic White Cheddar Popcorn</td>\n    </tr>\n    <tr>\n      <th>7</th>\n      <td>1</td>\n      <td>16363</td>\n      <td>Gluten Free Breaded Chicken Breast Tenders</td>\n    </tr>\n    <tr>\n      <th>8</th>\n      <td>1</td>\n      <td>37971</td>\n      <td>Organic Cranberry Pomegranate Juice</td>\n    </tr>\n    <tr>\n      <th>9</th>\n      <td>1</td>\n      <td>35383</td>\n      <td>Classic White Bread</td>\n    </tr>\n    <tr>\n      <th>10</th>\n      <td>1</td>\n      <td>45957</td>\n      <td>Peach Mango Salsa</td>\n    </tr>\n    <tr>\n      <th>11</th>\n      <td>1</td>\n      <td>30967</td>\n      <td>Organic Frosted Flakes Cereal</td>\n    </tr>\n    <tr>\n      <th>12</th>\n      <td>1</td>\n      <td>13640</td>\n      <td>Asian Pears</td>\n    </tr>\n    <tr>\n      <th>13</th>\n      <td>1</td>\n      <td>18200</td>\n      <td>Aged White Cheddar Gluten-Free Baked Rice And ...</td>\n    </tr>\n    <tr>\n      <th>14</th>\n      <td>1</td>\n      <td>40878</td>\n      <td>Macaroni And Cheese</td>\n    </tr>\n    <tr>\n      <th>15</th>\n      <td>1</td>\n      <td>37464</td>\n      <td>Apple Cinnamon Instant Oatmeal</td>\n    </tr>\n    <tr>\n      <th>16</th>\n      <td>1</td>\n      <td>39160</td>\n      <td>Kefir Cultured Strawberry Milk Drink</td>\n    </tr>\n  </tbody>\n</table>\n</div>"
     },
     "execution_count": 33,
     "metadata": {},
     "output_type": "execute_result"
    }
   ],
   "source": [
    "df_cluster.query('cluster == 1')"
   ]
  },
  {
   "cell_type": "code",
   "execution_count": 34,
   "metadata": {
    "pycharm": {
     "name": "#%%\n"
    }
   },
   "outputs": [
    {
     "data": {
      "text/plain": "    cluster  product_id                                    product_name\n17        2       17429                                 Jalapeno Hummus\n18        2       39475                     Total Greek Strained Yogurt\n19        2        5479                 Italian Sparkling Mineral Water\n20        2       10017                                   Tilapia Filet\n21        2       21543                              Organic Quick Oats\n22        2       16521                          Walnut Halves & Pieces\n23        2       16083                        Organic Large Brown Eggs\n24        2       45965                                  Steel Cut Oats\n25        2       31869                                 Organic Edamame\n26        2       19660                                    Spring Water\n27        2       20842                           Total 0% Greek Yogurt\n28        2        5134               Organic Thompson Seedless Raisins\n29        2       20734                           Organic Medjool Dates\n30        2        7503                                   Whole Almonds\n31        2       17872              Total 2% Lowfat Plain Greek Yogurt\n32        2       44422               Organic Old Fashioned Rolled Oats\n33        2       18027  Ezekiel 4:9 Bread Organic Sprouted Whole Grain",
      "text/html": "<div>\n<style scoped>\n    .dataframe tbody tr th:only-of-type {\n        vertical-align: middle;\n    }\n\n    .dataframe tbody tr th {\n        vertical-align: top;\n    }\n\n    .dataframe thead th {\n        text-align: right;\n    }\n</style>\n<table border=\"1\" class=\"dataframe\">\n  <thead>\n    <tr style=\"text-align: right;\">\n      <th></th>\n      <th>cluster</th>\n      <th>product_id</th>\n      <th>product_name</th>\n    </tr>\n  </thead>\n  <tbody>\n    <tr>\n      <th>17</th>\n      <td>2</td>\n      <td>17429</td>\n      <td>Jalapeno Hummus</td>\n    </tr>\n    <tr>\n      <th>18</th>\n      <td>2</td>\n      <td>39475</td>\n      <td>Total Greek Strained Yogurt</td>\n    </tr>\n    <tr>\n      <th>19</th>\n      <td>2</td>\n      <td>5479</td>\n      <td>Italian Sparkling Mineral Water</td>\n    </tr>\n    <tr>\n      <th>20</th>\n      <td>2</td>\n      <td>10017</td>\n      <td>Tilapia Filet</td>\n    </tr>\n    <tr>\n      <th>21</th>\n      <td>2</td>\n      <td>21543</td>\n      <td>Organic Quick Oats</td>\n    </tr>\n    <tr>\n      <th>22</th>\n      <td>2</td>\n      <td>16521</td>\n      <td>Walnut Halves &amp; Pieces</td>\n    </tr>\n    <tr>\n      <th>23</th>\n      <td>2</td>\n      <td>16083</td>\n      <td>Organic Large Brown Eggs</td>\n    </tr>\n    <tr>\n      <th>24</th>\n      <td>2</td>\n      <td>45965</td>\n      <td>Steel Cut Oats</td>\n    </tr>\n    <tr>\n      <th>25</th>\n      <td>2</td>\n      <td>31869</td>\n      <td>Organic Edamame</td>\n    </tr>\n    <tr>\n      <th>26</th>\n      <td>2</td>\n      <td>19660</td>\n      <td>Spring Water</td>\n    </tr>\n    <tr>\n      <th>27</th>\n      <td>2</td>\n      <td>20842</td>\n      <td>Total 0% Greek Yogurt</td>\n    </tr>\n    <tr>\n      <th>28</th>\n      <td>2</td>\n      <td>5134</td>\n      <td>Organic Thompson Seedless Raisins</td>\n    </tr>\n    <tr>\n      <th>29</th>\n      <td>2</td>\n      <td>20734</td>\n      <td>Organic Medjool Dates</td>\n    </tr>\n    <tr>\n      <th>30</th>\n      <td>2</td>\n      <td>7503</td>\n      <td>Whole Almonds</td>\n    </tr>\n    <tr>\n      <th>31</th>\n      <td>2</td>\n      <td>17872</td>\n      <td>Total 2% Lowfat Plain Greek Yogurt</td>\n    </tr>\n    <tr>\n      <th>32</th>\n      <td>2</td>\n      <td>44422</td>\n      <td>Organic Old Fashioned Rolled Oats</td>\n    </tr>\n    <tr>\n      <th>33</th>\n      <td>2</td>\n      <td>18027</td>\n      <td>Ezekiel 4:9 Bread Organic Sprouted Whole Grain</td>\n    </tr>\n  </tbody>\n</table>\n</div>"
     },
     "execution_count": 34,
     "metadata": {},
     "output_type": "execute_result"
    }
   ],
   "source": [
    "df_cluster.query('cluster == 2')"
   ]
  },
  {
   "cell_type": "code",
   "execution_count": 35,
   "metadata": {
    "pycharm": {
     "name": "#%%\n"
    }
   },
   "outputs": [
    {
     "data": {
      "text/plain": "    cluster  product_id                                product_name\n34        3       27398              Genuine Chocolate Flavor Syrup\n35        3       12099                          Honey Greek Yogurt\n36        3       36994                Organic Graham Crunch Cereal\n37        3       38563               Mint Chocolate Chip Ice Cream\n38        3       32156                    Cranberry Juice Cocktail\n39        3       40486                             Chicken Tenders\n40        3       35199                            100% Apple Juice\n41        3       30597               French Vanilla Coffee Creamer\n42        3       15780  Breakfast Blend Medium Roast Ground Coffee\n43        3       43889               Dark Chocolate Covered Banana\n44        3       17334                            Coffee Ice Cream\n45        3        3479                       Classic Whipped Cream\n46        3       19511                               Half And Half\n47        3       38548                                  Gala Apple\n48        3       45061                   Natural Vanilla Ice Cream\n49        3       18171                    Natural Sunflower Spread",
      "text/html": "<div>\n<style scoped>\n    .dataframe tbody tr th:only-of-type {\n        vertical-align: middle;\n    }\n\n    .dataframe tbody tr th {\n        vertical-align: top;\n    }\n\n    .dataframe thead th {\n        text-align: right;\n    }\n</style>\n<table border=\"1\" class=\"dataframe\">\n  <thead>\n    <tr style=\"text-align: right;\">\n      <th></th>\n      <th>cluster</th>\n      <th>product_id</th>\n      <th>product_name</th>\n    </tr>\n  </thead>\n  <tbody>\n    <tr>\n      <th>34</th>\n      <td>3</td>\n      <td>27398</td>\n      <td>Genuine Chocolate Flavor Syrup</td>\n    </tr>\n    <tr>\n      <th>35</th>\n      <td>3</td>\n      <td>12099</td>\n      <td>Honey Greek Yogurt</td>\n    </tr>\n    <tr>\n      <th>36</th>\n      <td>3</td>\n      <td>36994</td>\n      <td>Organic Graham Crunch Cereal</td>\n    </tr>\n    <tr>\n      <th>37</th>\n      <td>3</td>\n      <td>38563</td>\n      <td>Mint Chocolate Chip Ice Cream</td>\n    </tr>\n    <tr>\n      <th>38</th>\n      <td>3</td>\n      <td>32156</td>\n      <td>Cranberry Juice Cocktail</td>\n    </tr>\n    <tr>\n      <th>39</th>\n      <td>3</td>\n      <td>40486</td>\n      <td>Chicken Tenders</td>\n    </tr>\n    <tr>\n      <th>40</th>\n      <td>3</td>\n      <td>35199</td>\n      <td>100% Apple Juice</td>\n    </tr>\n    <tr>\n      <th>41</th>\n      <td>3</td>\n      <td>30597</td>\n      <td>French Vanilla Coffee Creamer</td>\n    </tr>\n    <tr>\n      <th>42</th>\n      <td>3</td>\n      <td>15780</td>\n      <td>Breakfast Blend Medium Roast Ground Coffee</td>\n    </tr>\n    <tr>\n      <th>43</th>\n      <td>3</td>\n      <td>43889</td>\n      <td>Dark Chocolate Covered Banana</td>\n    </tr>\n    <tr>\n      <th>44</th>\n      <td>3</td>\n      <td>17334</td>\n      <td>Coffee Ice Cream</td>\n    </tr>\n    <tr>\n      <th>45</th>\n      <td>3</td>\n      <td>3479</td>\n      <td>Classic Whipped Cream</td>\n    </tr>\n    <tr>\n      <th>46</th>\n      <td>3</td>\n      <td>19511</td>\n      <td>Half And Half</td>\n    </tr>\n    <tr>\n      <th>47</th>\n      <td>3</td>\n      <td>38548</td>\n      <td>Gala Apple</td>\n    </tr>\n    <tr>\n      <th>48</th>\n      <td>3</td>\n      <td>45061</td>\n      <td>Natural Vanilla Ice Cream</td>\n    </tr>\n    <tr>\n      <th>49</th>\n      <td>3</td>\n      <td>18171</td>\n      <td>Natural Sunflower Spread</td>\n    </tr>\n  </tbody>\n</table>\n</div>"
     },
     "execution_count": 35,
     "metadata": {},
     "output_type": "execute_result"
    }
   ],
   "source": [
    "df_cluster.query('cluster == 3')"
   ]
  },
  {
   "cell_type": "markdown",
   "metadata": {
    "pycharm": {
     "name": "#%% md\n"
    }
   },
   "source": [
    "Voila!\n",
    "- For cluster 1 I cannot seem to find an obvious category, but apparently they are often bought together!\n",
    "- Cluster 2 seems to be **healthy/organic food**\n",
    "- Cluster 3 seems to be **sweet, breakfast and coffee stuff**"
   ]
  }
 ],
 "metadata": {
  "kernelspec": {
   "display_name": "Python 3 (ipykernel)",
   "language": "python",
   "name": "python3"
  },
  "language_info": {
   "codemirror_mode": {
    "name": "ipython",
    "version": 3
   },
   "file_extension": ".py",
   "mimetype": "text/x-python",
   "name": "python",
   "nbconvert_exporter": "python",
   "pygments_lexer": "ipython3",
   "version": "3.8.6"
  }
 },
 "nbformat": 4,
 "nbformat_minor": 1
}